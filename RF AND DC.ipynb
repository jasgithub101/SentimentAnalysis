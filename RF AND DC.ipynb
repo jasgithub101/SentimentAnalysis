{
 "cells": [
  {
   "cell_type": "code",
   "execution_count": 1,
   "id": "d9dbc6e8",
   "metadata": {},
   "outputs": [],
   "source": [
    "import pandas as pd\n",
    "import numpy as np\n",
    "import matplotlib.pyplot as plt\n",
    "import seaborn as sns\n",
    "\n",
    "from sklearn.linear_model import LogisticRegression\n",
    "from sklearn.linear_model import SGDClassifier\n",
    "from sklearn.naive_bayes import GaussianNB\n",
    "from sklearn.ensemble import RandomForestClassifier\n",
    "from sklearn.tree import DecisionTreeClassifier\n",
    "\n",
    "from sklearn.metrics import make_scorer\n",
    "from sklearn.metrics import accuracy_score\n",
    "from sklearn.metrics import precision_score\n",
    "from sklearn.metrics import recall_score\n",
    "from sklearn.metrics import f1_score\n",
    "from sklearn.model_selection import cross_validate\n",
    "\n",
    "from sklearn.metrics import confusion_matrix, accuracy_score\n",
    "\n",
    "import nltk\n",
    "from nltk.tokenize import word_tokenize\n",
    "from nltk.corpus import stopwords\n",
    "stopwords = stopwords.words('english')\n",
    "from sklearn.feature_extraction.text import CountVectorizer"
   ]
  },
  {
   "cell_type": "code",
   "execution_count": 2,
   "id": "2121a367",
   "metadata": {},
   "outputs": [],
   "source": [
    "columns = ['target', 'ids', 'date', 'flag' ,'user', 'text']\n",
    "path = '/Users/ajay/Downloads/training.1600000.processed.noemoticon.csv'\n",
    "df = pd.read_csv(path, names = columns, encoding='latin-1')\n"
   ]
  },
  {
   "cell_type": "code",
   "execution_count": 3,
   "id": "0a7c7cc4",
   "metadata": {},
   "outputs": [
    {
     "data": {
      "text/html": [
       "<div>\n",
       "<style scoped>\n",
       "    .dataframe tbody tr th:only-of-type {\n",
       "        vertical-align: middle;\n",
       "    }\n",
       "\n",
       "    .dataframe tbody tr th {\n",
       "        vertical-align: top;\n",
       "    }\n",
       "\n",
       "    .dataframe thead th {\n",
       "        text-align: right;\n",
       "    }\n",
       "</style>\n",
       "<table border=\"1\" class=\"dataframe\">\n",
       "  <thead>\n",
       "    <tr style=\"text-align: right;\">\n",
       "      <th></th>\n",
       "      <th>target</th>\n",
       "      <th>ids</th>\n",
       "      <th>date</th>\n",
       "      <th>flag</th>\n",
       "      <th>user</th>\n",
       "      <th>text</th>\n",
       "    </tr>\n",
       "  </thead>\n",
       "  <tbody>\n",
       "    <tr>\n",
       "      <th>0</th>\n",
       "      <td>4</td>\n",
       "      <td>1686122683</td>\n",
       "      <td>Sun May 03 03:52:46 PDT 2009</td>\n",
       "      <td>NO_QUERY</td>\n",
       "      <td>spunkgirl</td>\n",
       "      <td>@nicholasmw 1 day u will find that girl worry</td>\n",
       "    </tr>\n",
       "    <tr>\n",
       "      <th>1</th>\n",
       "      <td>0</td>\n",
       "      <td>2174460051</td>\n",
       "      <td>Sun Jun 14 22:35:53 PDT 2009</td>\n",
       "      <td>NO_QUERY</td>\n",
       "      <td>Bubbles_Fly</td>\n",
       "      <td>there is nothing on tv and im so desperate to ...</td>\n",
       "    </tr>\n",
       "    <tr>\n",
       "      <th>2</th>\n",
       "      <td>0</td>\n",
       "      <td>1795849965</td>\n",
       "      <td>Thu May 14 08:28:27 PDT 2009</td>\n",
       "      <td>NO_QUERY</td>\n",
       "      <td>ktfry246</td>\n",
       "      <td>Very excited that greys is on tonight. Not so ...</td>\n",
       "    </tr>\n",
       "    <tr>\n",
       "      <th>3</th>\n",
       "      <td>4</td>\n",
       "      <td>1933034865</td>\n",
       "      <td>Tue May 26 22:49:43 PDT 2009</td>\n",
       "      <td>NO_QUERY</td>\n",
       "      <td>Sheng07</td>\n",
       "      <td>2pm's again and again is a great song. Nichkhu...</td>\n",
       "    </tr>\n",
       "    <tr>\n",
       "      <th>4</th>\n",
       "      <td>0</td>\n",
       "      <td>1976523804</td>\n",
       "      <td>Sat May 30 18:21:19 PDT 2009</td>\n",
       "      <td>NO_QUERY</td>\n",
       "      <td>amberself</td>\n",
       "      <td>My teeth hurt</td>\n",
       "    </tr>\n",
       "  </tbody>\n",
       "</table>\n",
       "</div>"
      ],
      "text/plain": [
       "   target         ids                          date      flag         user  \\\n",
       "0       4  1686122683  Sun May 03 03:52:46 PDT 2009  NO_QUERY    spunkgirl   \n",
       "1       0  2174460051  Sun Jun 14 22:35:53 PDT 2009  NO_QUERY  Bubbles_Fly   \n",
       "2       0  1795849965  Thu May 14 08:28:27 PDT 2009  NO_QUERY     ktfry246   \n",
       "3       4  1933034865  Tue May 26 22:49:43 PDT 2009  NO_QUERY      Sheng07   \n",
       "4       0  1976523804  Sat May 30 18:21:19 PDT 2009  NO_QUERY    amberself   \n",
       "\n",
       "                                                text  \n",
       "0     @nicholasmw 1 day u will find that girl worry   \n",
       "1  there is nothing on tv and im so desperate to ...  \n",
       "2  Very excited that greys is on tonight. Not so ...  \n",
       "3  2pm's again and again is a great song. Nichkhu...  \n",
       "4                                     My teeth hurt   "
      ]
     },
     "execution_count": 3,
     "metadata": {},
     "output_type": "execute_result"
    }
   ],
   "source": [
    "df = df.sample(n=50000,random_state=100).reset_index(drop=True)\n",
    "df.head()"
   ]
  },
  {
   "cell_type": "code",
   "execution_count": 4,
   "id": "aa421c4c",
   "metadata": {},
   "outputs": [
    {
     "data": {
      "text/plain": [
       "(50000, 6)"
      ]
     },
     "execution_count": 4,
     "metadata": {},
     "output_type": "execute_result"
    }
   ],
   "source": [
    "df.shape"
   ]
  },
  {
   "cell_type": "markdown",
   "id": "63c1abad",
   "metadata": {},
   "source": [
    "# Data Cleaning and Preprocessing"
   ]
  },
  {
   "cell_type": "code",
   "execution_count": 5,
   "id": "27d05cbe",
   "metadata": {},
   "outputs": [],
   "source": [
    "df.target = df.target.replace(4,1)"
   ]
  },
  {
   "cell_type": "code",
   "execution_count": 6,
   "id": "4d6512d1",
   "metadata": {},
   "outputs": [],
   "source": [
    "def clean_text(text):\n",
    "    text = text.lower() #lowercase\n",
    "    tokens = word_tokenize(text)\n",
    "    tokens = [t for t in tokens if not t in stopwords] #remove stopwords\n",
    "    tokens = [t for t in tokens if t.isalnum()] #remove punctuation\n",
    "    text_clean = \" \".join(tokens)\n",
    "    \n",
    "    return text_clean\n",
    "\n",
    "#clean text \n",
    "df['text'] = [clean_text(text) for text in df['text']]"
   ]
  },
  {
   "cell_type": "markdown",
   "id": "6e963783",
   "metadata": {},
   "source": [
    "# Splitting data into Training and Testing"
   ]
  },
  {
   "cell_type": "code",
   "execution_count": 7,
   "id": "3e38076a",
   "metadata": {},
   "outputs": [],
   "source": [
    "#train test split\n",
    "train = df[0:40000]\n",
    "test = df[40000:50000].reset_index(drop=True)"
   ]
  },
  {
   "cell_type": "markdown",
   "id": "e8fcd818",
   "metadata": {},
   "source": [
    "# Creating Feature Matrix"
   ]
  },
  {
   "cell_type": "code",
   "execution_count": 8,
   "id": "4bd212b9",
   "metadata": {},
   "outputs": [
    {
     "name": "stderr",
     "output_type": "stream",
     "text": [
      "/Users/ajay/opt/anaconda3/lib/python3.9/site-packages/sklearn/utils/deprecation.py:87: FutureWarning: Function get_feature_names is deprecated; get_feature_names is deprecated in 1.0 and will be removed in 1.2. Please use get_feature_names_out instead.\n",
      "  warnings.warn(msg, category=FutureWarning)\n"
     ]
    }
   ],
   "source": [
    "# Create count vectoriser \n",
    "vectorizer = CountVectorizer(ngram_range=(1, 2)\n",
    "                            ,max_features=1000)\n",
    "\n",
    "# Transform training corpus into feature matrix\n",
    "X = vectorizer.fit_transform(train['text'])\n",
    "feature_names = vectorizer.get_feature_names()\n",
    "\n",
    "x_train = pd.DataFrame(data=X.toarray(),columns=feature_names)\n",
    "y_train = train['target']"
   ]
  },
  {
   "cell_type": "code",
   "execution_count": 9,
   "id": "2db9352d",
   "metadata": {},
   "outputs": [],
   "source": [
    "# Transform testing corpus into feature matrix\n",
    "X = vectorizer.transform(test['text'])\n",
    "\n",
    "x_test = pd.DataFrame(data=X.toarray(),columns=feature_names)\n",
    "y_test = test['target']"
   ]
  },
  {
   "cell_type": "code",
   "execution_count": 10,
   "id": "2a022e01",
   "metadata": {},
   "outputs": [],
   "source": [
    "# Min-Max scalling\n",
    "x_max = x_train.max()\n",
    "x_min = x_train.min()\n",
    "\n",
    "x_train = (x_train - x_min)/x_max\n",
    "x_test = (x_test - x_min)/x_max"
   ]
  },
  {
   "cell_type": "markdown",
   "id": "49fe519d",
   "metadata": {},
   "source": [
    "# Function to plot Confusion matrix"
   ]
  },
  {
   "cell_type": "code",
   "execution_count": 14,
   "id": "1613b79e",
   "metadata": {},
   "outputs": [],
   "source": [
    "def conf_matrix(y_test,y_pred_lr):\n",
    "    #create confusion matrix\n",
    "    conf_matrix = confusion_matrix(y_test,y_pred_lr)\n",
    "    conf_matrix = pd.DataFrame(data = conf_matrix,\n",
    "                                  columns=['negative','positive'],\n",
    "                                  index=['negative','positive'])\n",
    "\n",
    "    #plot confusion matrix\n",
    "    plt.figure(figsize=(5, 5), facecolor='w', edgecolor='k')\n",
    "    sns.set(font_scale=1.5)\n",
    "    sns.heatmap(conf_matrix,cmap='coolwarm',annot=True,fmt='.5g',cbar=False)\n",
    "    plt.ylabel('Actual',size=20)\n",
    "    plt.xlabel('Predicted',size=20)\n",
    "    "
   ]
  },
  {
   "cell_type": "markdown",
   "id": "a057f91b",
   "metadata": {},
   "source": [
    "# Random forest classifier"
   ]
  },
  {
   "cell_type": "code",
   "execution_count": 12,
   "id": "88eda0e2",
   "metadata": {},
   "outputs": [
    {
     "name": "stdout",
     "output_type": "stream",
     "text": [
      "Accuracy: 0.7109\n"
     ]
    }
   ],
   "source": [
    "rf = RandomForestClassifier(n_estimators = 10, criterion = 'entropy', random_state = 0).fit(x_train, y_train)\n",
    "y_pred_rf = rf.predict(x_test)\n",
    "accuracy_rf = accuracy_score(y_test,y_pred_rf)\n",
    "cmatrix_rf = confusion_matrix(y_test, y_pred_rf)\n",
    "print(\"Accuracy: {}\".format(accuracy_rf))"
   ]
  },
  {
   "cell_type": "code",
   "execution_count": 19,
   "id": "2a0b4c62",
   "metadata": {},
   "outputs": [
    {
     "name": "stdout",
     "output_type": "stream",
     "text": [
      "F1 Score: 0.7108922547593571\n"
     ]
    }
   ],
   "source": [
    "f1_dt = f1_score(y_test, y_pred_rf, average='weighted')\n",
    "\n",
    "print(\"F1 Score: {}\".format(f1_dt))"
   ]
  },
  {
   "cell_type": "code",
   "execution_count": 22,
   "id": "66f18041",
   "metadata": {},
   "outputs": [
    {
     "name": "stdout",
     "output_type": "stream",
     "text": [
      "Precision: 0.7109159193058321\n",
      "Recall: 0.7109\n"
     ]
    }
   ],
   "source": [
    "precision_dt = precision_score(y_test, y_pred_rf, average='weighted')\n",
    "\n",
    "# Calculate recall\n",
    "recall_dt = recall_score(y_test, y_pred_rf, average='weighted')\n",
    "\n",
    "# Print results\n",
    "\n",
    "print(\"Precision: {}\".format(precision_dt))\n",
    "print(\"Recall: {}\".format(recall_dt))"
   ]
  },
  {
   "cell_type": "code",
   "execution_count": 15,
   "id": "482e3e49",
   "metadata": {},
   "outputs": [
    {
     "data": {
      "image/png": "[encoded data removed]",
      "text/plain": [
       "<Figure size 500x500 with 1 Axes>"
      ]
     },
     "metadata": {},
     "output_type": "display_data"
    }
   ],
   "source": [
    "conf_matrix(y_test,y_pred_rf)"
   ]
  },
  {
   "cell_type": "markdown",
   "id": "cd59fcf5",
   "metadata": {},
   "source": [
    "# Decision Tree Classifier"
   ]
  },
  {
   "cell_type": "code",
   "execution_count": 13,
   "id": "e335cf70",
   "metadata": {},
   "outputs": [
    {
     "name": "stdout",
     "output_type": "stream",
     "text": [
      "Accuracy: 0.6721\n"
     ]
    }
   ],
   "source": [
    "dt = DecisionTreeClassifier(random_state=0).fit(x_train, y_train)\n",
    "y_pred_dt = dt.predict(x_test)\n",
    "accuracy_dt = accuracy_score(y_test,y_pred_dt)\n",
    "cmatrix_dt = confusion_matrix(y_test, y_pred_dt)\n",
    "print(\"Accuracy: {}\".format(accuracy_dt))"
   ]
  },
  {
   "cell_type": "code",
   "execution_count": 16,
   "id": "babbfc35",
   "metadata": {},
   "outputs": [
    {
     "data": {
      "image/png": "[encoded data removed]",
      "text/plain": [
       "<Figure size 500x500 with 1 Axes>"
      ]
     },
     "metadata": {},
     "output_type": "display_data"
    }
   ],
   "source": [
    "conf_matrix(y_test,y_pred_dt)"
   ]
  },
  {
   "cell_type": "code",
   "execution_count": 18,
   "id": "dc99ecf6",
   "metadata": {},
   "outputs": [
    {
     "name": "stdout",
     "output_type": "stream",
     "text": [
      "F1 Score: 0.6720987703673149\n"
     ]
    }
   ],
   "source": [
    "f1_dt = f1_score(y_test, y_pred_dt, average='weighted')\n",
    "\n",
    "# Print results\n",
    "\n",
    "print(\"F1 Score: {}\".format(f1_dt))"
   ]
  },
  {
   "cell_type": "code",
   "execution_count": 21,
   "id": "d01c1838",
   "metadata": {},
   "outputs": [
    {
     "name": "stdout",
     "output_type": "stream",
     "text": [
      "Precision: 0.6721005652090434\n",
      "Recall: 0.6721\n"
     ]
    }
   ],
   "source": [
    "precision_dt = precision_score(y_test, y_pred_dt, average='weighted')\n",
    "\n",
    "# Calculate recall\n",
    "recall_dt = recall_score(y_test, y_pred_dt, average='weighted')\n",
    "\n",
    "# Print results\n",
    "\n",
    "print(\"Precision: {}\".format(precision_dt))\n",
    "print(\"Recall: {}\".format(recall_dt))\n"
   ]
  }
 ],
 "metadata": {
  "kernelspec": {
   "display_name": "Python 3 (ipykernel)",
   "language": "python",
   "name": "python3"
  },
  "language_info": {
   "codemirror_mode": {
    "name": "ipython",
    "version": 3
   },
   "file_extension": ".py",
   "mimetype": "text/x-python",
   "name": "python",
   "nbconvert_exporter": "python",
   "pygments_lexer": "ipython3",
   "version": "3.10.10"
  }
 },
 "nbformat": 4,
 "nbformat_minor": 5
}
